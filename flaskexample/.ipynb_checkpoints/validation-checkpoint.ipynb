{
 "cells": [
  {
   "cell_type": "code",
   "execution_count": 52,
   "metadata": {
    "collapsed": false
   },
   "outputs": [],
   "source": [
    "import pygal\n",
    "from pygal.style import Style\n",
    "from pygal import Config\n",
    "\n",
    "from flask import Flask, Response\n",
    "from flask import request \n",
    "from flask import render_template\n",
    "#from flaskexample import app\n",
    "from sqlalchemy import create_engine\n",
    "from sqlalchemy_utils import database_exists, create_database\n",
    "import pandas as pd\n",
    "import psycopg2\n",
    "\n",
    "#from ldaReviewModel_Test_USER import ldaReviewModel_Test_USER\n",
    "#from ldaReviewModel_Test_LDA20_3 import ldaReviewModel_Test\n",
    "from ldaReviewModel_Test_USER2 import ldaReviewModel_Test_USER2\n",
    "\n",
    "from nltk.tokenize import RegexpTokenizer\n",
    "from stop_words import get_stop_words\n",
    "from nltk.stem.porter import PorterStemmer\n",
    "from nltk.corpus import wordnet as wn\n",
    "from nltk.stem import WordNetLemmatizer\n",
    "from gensim import corpora, models\n",
    "import gensim\n",
    "\n",
    "import pandas as pd\n",
    "import numpy as np\n",
    "import matplotlib.pyplot as plt\n",
    "%matplotlib inline"
   ]
  },
  {
   "cell_type": "code",
   "execution_count": 46,
   "metadata": {
    "collapsed": false
   },
   "outputs": [
    {
     "data": {
      "text/plain": [
       "{'Amenity': u'bathroom, bedroom, space, kitchen, clean, live, comfortable, private, large, share, area, floor, shower, guest, work, light, privacy, quiet, spacious, unit',\n",
       " 'Arrival': u'check, arrive, late, time, arrival, accommodate, early, leave, night, last, flight, minute, flexible, hour, luggage, able, schedule, allow, upon, help',\n",
       " 'Food': u'coffee, wine, morning, breakfast, garden, cottage, bottle, fresh, fruit, leave, lovely, delicious, touch, little, snack, every, feli, patio, fridge, flower',\n",
       " 'Neighbourhood:Convenience': u'walk, restaurant, mission, shop, distance, close, street, within, neighborhood, away, block, area, bart, easy, quiet, park, clean, district, many, coffee',\n",
       " 'Neighbourhood:Fun': u'park, walk, street, gate, city, golden, take, away, downtown, easy, find, block, close, minute, neighborhood, view, quiet, right, around, area'}"
      ]
     },
     "execution_count": 46,
     "metadata": {},
     "output_type": "execute_result"
    }
   ],
   "source": [
    "number_of_dimension = 8\n",
    "selected_topics = [2,9,11,12,14,15,17,18]\n",
    "topic_dimension_table = {2:'DIMENSION_1',9:'DIMENSION_2',11:'DIMENSION_3',12:'DIMENSION_4',14:'DIMENSION_5',15:'DIMENSION_6',17:'DIMENSION_7',18:'DIMENSION_8'}\n",
    "\n",
    "\n",
    "  \n",
    "raw_review_texts1 = ['I stayed at the hostel for 2 nights, my first time in San Francisco. The Financial District and the surrounding areas are rich in terms of opportunities for fun, restaurants, pubs, public transportation and probably anything that the typical traveler would need. The staff is really - really! - cool: they are more than happy to help people getting around, offering great suggestions for many different places and activities. The atmosphere is really relaxed and easy: I met a lot of new friends, coming from all over the world. The shared kitchen is well organized and provides the guests with all sorts of different tools. I loved the shared food containers, but there is also room for anyone food in separate places.The bathrooms and the showers are perfectly cleaned. The rooms are comfortable and quiet. I have also used the Hackerspace once: it is located in another building that is really close to the hostel: it takes 2 minutes to get from the hostel to the Hackerspace. It is a quiet place where you can work on your projects: it has 4 or 5 different rooms and many facilities that can be helpful in a team work. It is a very well organized place! Whenever I will come back to San Francisco and I will need a place to stay, this is going to be the place I will try to book, FOR SURE! P.S. Booking is better in the same day, after 11 a.m. They will accept you in, if they have room!']\n",
    "raw_review_texts = ['Great host. Provided special gift basket upon arrival. Location is prime and easily accessible to public transportation. Very spacious and great air flow. From the beginning Syeda was responsive and quick to reply back to all my questions. Super friendly and accommodating. Very happy with Syeda and her home. Thanks for sharing it with me!']\n",
    "## apply LDA model\n",
    "topic_result, prob_result, avg_score = ldaReviewModel_Test_USER2(raw_review_texts)\n",
    "  \n",
    "prob_result\n",
    "avg_score\n",
    "topic_result"
   ]
  },
  {
   "cell_type": "code",
   "execution_count": 44,
   "metadata": {
    "collapsed": false
   },
   "outputs": [
    {
     "data": {
      "text/plain": [
       "{0: u'casa, para, todo, bien, como, apartamento, molto, rate, straightforward, excelente, buena, recomend, lugar, pero, vista, limpio, tiene, elke, cheaper, highest',\n",
       " 1: u'loft, cort, nancy, brad, daniel, stephen, colleague, confortable, jessica, logement, rebecca, accueil, crash, merci, impeccably, proche, alanna, sans, facile, attention',\n",
       " 2: u'easy, check, question, clean, need, quick, responsive, respond, communication, answer, comfortable, meet, helpful, time, always, book, experience, super, brenda, instruction',\n",
       " 3: u'price, hotel, people, soma, dirty, friendly, roommate, service, single, smell, hostel, value, sebastian, gavin, situation, reasonable, alamo, andrei, cleaner, traveler',\n",
       " 4: u'night, michael, little, bite, sleep, thing, noise, street, door, issue, people, time, wasn, however, though, find, clean, problem, think, never',\n",
       " 5: u'welcome, give, home, provide, feel, area, city, recommendation, information, local, comfortable, helpful, around, restaurant, suggestion, wonderful, patrick, advice, neighborhood, help',\n",
       " 6: u'view, amaze, beautiful, wonderful, home, city, highly, experience, fantastic, thank, absolutely, better, lovely, awesome, comfortable, couldn, gorgeous, deck, fran, hill',\n",
       " 7: u'nous, pour, post, scott, cancel, appartement, reservation, bien, arrival, automate, dans, avon, avec, quartier, tout, jour, notre, mais, tait, situ',\n",
       " 8: u'sehr, haben, patricia, tony, wohnung, eine, auch, alles, stephan, zimmer, nicht, aber, waren, sind, super, lage, sich, barrio, kann, wieder',\n",
       " 9: u'public, clean, easy, close, transportation, exactly, describe, locate, city, transport, comfortable, jason, access, helpful, friendly, quiet, neighborhood, need, thank, convenient',\n",
       " 10: u'square, union, wharf, fisherman, linda, john, conference, center, beach, north, walk, chinatown, moscone, cable, attend, howard, pier, brandon, pass, niks',\n",
       " 11: u'walk, restaurant, mission, shop, distance, close, street, within, neighborhood, away, block, area, bart, easy, quiet, park, clean, district, many, coffee',\n",
       " 12: u'home, time, back, experience, come, thank, feel, first, best, wonderful, welcome, felt, amaze, visit, beautiful, comfortable, next, friend, city, trip',\n",
       " 13: u'hide, brian, mike, website, west, ryan, george, adrian, dream, holiday, tree, discover, rachel, thorough, portal, exceptionally, hopefully, seriously, coast, notch',\n",
       " 14: u'check, arrive, late, time, arrival, accommodate, early, leave, night, last, flight, minute, flexible, hour, luggage, able, schedule, allow, upon, help',\n",
       " 15: u'park, walk, street, gate, city, golden, take, away, downtown, easy, find, block, close, minute, neighborhood, view, quiet, right, around, area',\n",
       " 16: u'kitchen, need, towel, stock, cook, provide, fridge, water, extra, coffee, bathroom, equip, laundry, include, dryer, shower, fully, food, pillow, family',\n",
       " 17: u'coffee, wine, morning, breakfast, garden, cottage, bottle, fresh, fruit, leave, lovely, delicious, touch, little, snack, every, feli, patio, fridge, flower',\n",
       " 18: u'bathroom, bedroom, space, kitchen, clean, live, comfortable, private, large, share, area, floor, shower, guest, work, light, privacy, quiet, spacious, unit',\n",
       " 19: u'clean, comfortable, thank, enjoy, helpful, flat, lovely, quiet, friendly, garden, neighborhood, beautiful, wonderful, super, highly, welcome, locate, spacious, time, need'}"
      ]
     },
     "execution_count": 44,
     "metadata": {},
     "output_type": "execute_result"
    }
   ],
   "source": [
    "## parameter\n",
    "Num_Words = 20\n",
    "Num_Topics = 20\n",
    "Num_Selected_Topics = 8\n",
    "selected_topic_id = [2,9,11,12,14,15,17,18]\n",
    "num_selected_topics = len(selected_topic_id)\n",
    "selected_topic_title = {2:'Communication', 9:'Transportation',11:'Neighbourhood:Convenience',\n",
    "                            12:'Experience',14:'Arrival',15:'Neighbourhood:Fun',17:'Food',18:'Amenity'}\n",
    "min_prob = 0.15\n",
    "    \n",
    "## Proprocess review data: Parameters\n",
    "tokenizer = RegexpTokenizer(r'\\w+')\n",
    "# create English stop words list\n",
    "en_stop = get_stop_words('en')\n",
    "## high frequency words\n",
    "custom_stop = ['stay','great','place','us','love','like','host','recommend','everything','san','francisco',\n",
    "                   'perfect','location','apartment', 'nice','good','definitely','really','room','house', 'didn',\n",
    "                   'also','just','even','well','make','will','much','airbnb']\n",
    "\n",
    "single_letters = [let for let in 'abcdefghijklmnopqrstuvwxyz']\n",
    "stop_words_list = en_stop + custom_stop\n",
    "# Create p_stemmer of class PorterStemmer\n",
    "p_stemmer = PorterStemmer()\n",
    "# Create lemmatizer\n",
    "wordnet_lemmatizer = WordNetLemmatizer()\n",
    "    \n",
    "## Load LDA\n",
    "lda_trained = models.LdaModel.load('lda20_3.model')\n",
    "topics = lda_trained.show_topics(num_topics=Num_Topics, num_words=Num_Words, formatted=False)\n",
    "topics_table = {}\n",
    "for ti, topic in enumerate(topics):\n",
    "    topics_table[ti] = ', '.join([v[0] for v in lda_trained.show_topic(ti, Num_Words)])\n",
    "topics_table"
   ]
  },
  {
   "cell_type": "code",
   "execution_count": 81,
   "metadata": {
    "collapsed": false
   },
   "outputs": [
    {
     "name": "stdout",
     "output_type": "stream",
     "text": [
      "2\n",
      "5\n",
      "9\n",
      "12\n"
     ]
    },
    {
     "data": {
      "text/plain": [
       "[0.28632488121015331,\n",
       " 0.4146968062939741,\n",
       " 0.0,\n",
       " 0.29897831249587253,\n",
       " 0.0,\n",
       " 0.0,\n",
       " 0.0,\n",
       " 0.0]"
      ]
     },
     "execution_count": 81,
     "metadata": {},
     "output_type": "execute_result"
    }
   ],
   "source": [
    "rev1 = ['I stayed at the hostel for 2 nights, my first time in San Francisco. The Financial District and the surrounding areas are rich in terms of opportunities for fun, restaurants, pubs, public transportation and probably anything that the typical traveler would need. The staff is really - really! - cool: they are more than happy to help people getting around, offering great suggestions for many different places and activities. The atmosphere is really relaxed and easy: I met a lot of new friends, coming from all over the world. The shared kitchen is well organized and provides the guests with all sorts of different tools. I loved the shared food containers, but there is also room for anyone food in separate places. The bathrooms and the showers are perfectly cleaned. The rooms are comfortable and quiet. I have also used the Hackerspace once: it is located in another building that is really close to the hostel: it takes 2 minutes to get from the hostel to the Hackerspace. It is a quiet place where you can work on your projects: it has 4 or 5 different rooms and many facilities that can be helpful in a team work. It is a very well organized place! Whenever I will come back to San Francisco and I will need a place to stay, this is going to be the place I will try to book, FOR SURE! P.S. Booking is better in the same day, after 11 a.m. They will accept you in, if they have room!']\n",
    "rev = ['Very lovely home in a nice neighborhood! The house is not downtown, but is located on a hill with a gorgeous view on SF. You can enjoy the nice garden or the roof from your bedroom window for morning coffee. For visiting SF, You can take the bus 9 to downtown, but we found it a little better to take Uber for just 7 dollar. There is s a great coffee bar / restaurant close and you can walk 30 minutes to Mission, the upcoming neighborhood of SF. Emily and her family are very nice to talk to. Since Emily is a bike lover, we had a lot to chat about. Thank you for the lovely stay! It was great!']\n",
    "user_texts = []\n",
    "# clean and tokenize document string\n",
    "user_raw = str(rev[0]).lower()\n",
    "user_tokens = tokenizer.tokenize(user_raw)\n",
    "\n",
    "# remove stop words from tokens\n",
    "user_stopped_tokens = [i for i in user_tokens if not i in en_stop]\n",
    "    \n",
    "# lemmatize tokens\n",
    "user_lemmatized_tokens_noun = [wordnet_lemmatizer.lemmatize(i) for i in user_stopped_tokens]\n",
    "#lemmatized_tokens_adj = [wordnet_lemmatizer.lemmatize(i, wn.ADJ) for i in lemmatized_tokens_noun]\n",
    "user_lemmatized_tokens_verb = [wordnet_lemmatizer.lemmatize(i, wn.VERB) for i in user_lemmatized_tokens_noun]\n",
    "# stem tokens\n",
    "# stemmed_tokens = [p_stemmer.stem(i) for i in lemmatized_tokens]\n",
    "# fillter high freq words\n",
    "user_filtered_tokens = [i for i in user_lemmatized_tokens_verb if len(i) > 3 and not i in custom_stop]\n",
    "# add tokens to list\n",
    "user_texts.extend(user_filtered_tokens)\n",
    "    \n",
    "# turn our tokenized documents into a id <-> term dictionary\n",
    "user_dictionary = corpora.Dictionary([user_texts])\n",
    "# convert tokenized documents into a document-term matrix\n",
    "user_corpus = user_dictionary.doc2bow(user_texts)\n",
    "    \n",
    "## Apply LDA on user reviews\n",
    "selected_topic_prob = {}\n",
    "for ID in selected_topic_id:\n",
    "    selected_topic_prob[ID] = 0\n",
    "    \n",
    "user_prob = lda_trained.get_document_topics(user_corpus, minimum_probability=None)\n",
    "for ID, prob in user_prob:\n",
    "    print ID\n",
    "    if ID in selected_topic_id:\n",
    "        selected_topic_prob[ID] = prob\n",
    "output_prob = []\n",
    "for ID, probi in selected_topic_prob.items():\n",
    "    output_prob.append(probi)\n",
    "norm_output = [float(i)/sum(output_prob) for i in output_prob]\n",
    "norm_output"
   ]
  },
  {
   "cell_type": "code",
   "execution_count": 60,
   "metadata": {
    "collapsed": false
   },
   "outputs": [
    {
     "data": {
      "image/png": "[encoded data removed]",
      "text/plain": [
       "<matplotlib.figure.Figure at 0x11a7c0110>"
      ]
     },
     "metadata": {},
     "output_type": "display_data"
    }
   ],
   "source": [
    "objects = ('Communication', 'Transportation', 'Area:Convenience', 'Experience', 'Arrival', 'Area:Fun', 'Food', 'Amenity')\n",
    "y_pos = np.arange(len(objects))\n",
    "performance = norm_output\n",
    "fig, ax = plt.subplots()\n",
    "\n",
    "index = np.arange(len(objects))\n",
    "bar_width = 0.7\n",
    "\n",
    "opacity = 0.4\n",
    "#error_config = {'ecolor': '0.3'}\n",
    "\n",
    "rects1 = plt.bar(index, norm_output, bar_width,\n",
    "                 alpha=opacity,\n",
    "                 color='b')\n",
    "\n",
    "plt.xlabel('Dimension')\n",
    "plt.ylabel('Probobility')\n",
    "\n",
    "plt.xticks(index + bar_width, ('Communication', 'Transportation', 'Neibourhood:Convenience', \n",
    "                               'Experience', 'Arrival', 'Neighbourhood:Fun', 'Food', 'Amenity'))\n",
    "plt.legend()\n",
    "locs, labels = plt.xticks()\n",
    "plt.setp(labels, rotation=60)\n",
    "#plt.tight_layout()\n",
    "plt.show()"
   ]
  },
  {
   "cell_type": "code",
   "execution_count": 76,
   "metadata": {
    "collapsed": false
   },
   "outputs": [
    {
     "data": {
      "image/png": "[encoded data removed]",
      "text/plain": [
       "<matplotlib.figure.Figure at 0x11bc43f50>"
      ]
     },
     "metadata": {},
     "output_type": "display_data"
    }
   ],
   "source": [
    "objects = ('Communication', 'Transportation', 'Area:Convenience', 'Experience', 'Arrival', 'Area:Fun', 'Food', 'Amenity')\n",
    "y_pos = np.arange(len(objects))\n",
    "performance = norm_output\n",
    "\n",
    "fig = plt.figure()\n",
    "\n",
    "plt.barh(y_pos, performance, align='center', alpha=0.5)\n",
    "plt.yticks(y_pos, objects)\n",
    "plt.xlabel('Probobility')\n",
    "#plt.title('Programming language usage')\n",
    " \n",
    "fig.savefig('example_bar.jpg')"
   ]
  },
  {
   "cell_type": "code",
   "execution_count": 38,
   "metadata": {
    "collapsed": false
   },
   "outputs": [
    {
     "ename": "TypeError",
     "evalue": "unsupported operand type(s) for -: 'int' and 'tuple'",
     "output_type": "error",
     "traceback": [
      "\u001b[0;31m---------------------------------------------------------------------------\u001b[0m",
      "\u001b[0;31mTypeError\u001b[0m                                 Traceback (most recent call last)",
      "\u001b[0;32m<ipython-input-38-3ac6ceed9238>\u001b[0m in \u001b[0;36m<module>\u001b[0;34m()\u001b[0m\n\u001b[1;32m     23\u001b[0m \u001b[0mchart\u001b[0m\u001b[0;34m.\u001b[0m\u001b[0madd\u001b[0m\u001b[0;34m(\u001b[0m\u001b[0;34m'Your Listing'\u001b[0m\u001b[0;34m,\u001b[0m \u001b[0muser_prob\u001b[0m\u001b[0;34m,\u001b[0m \u001b[0mfill\u001b[0m \u001b[0;34m=\u001b[0m \u001b[0mTrue\u001b[0m\u001b[0;34m)\u001b[0m\u001b[0;34m\u001b[0m\u001b[0m\n\u001b[1;32m     24\u001b[0m \u001b[0;34m\u001b[0m\u001b[0m\n\u001b[0;32m---> 25\u001b[0;31m \u001b[0mchart\u001b[0m\u001b[0;34m.\u001b[0m\u001b[0mrender_to_file\u001b[0m\u001b[0;34m(\u001b[0m\u001b[0;34m'sample.svg'\u001b[0m\u001b[0;34m)\u001b[0m\u001b[0;34m\u001b[0m\u001b[0m\n\u001b[0m",
      "\u001b[0;32m//anaconda/lib/python2.7/site-packages/pygal/graph/public.pyc\u001b[0m in \u001b[0;36mrender_to_file\u001b[0;34m(self, filename, **kwargs)\u001b[0m\n\u001b[1;32m    109\u001b[0m         \u001b[0;34m\"\"\"Render the graph, and write it to filename\"\"\"\u001b[0m\u001b[0;34m\u001b[0m\u001b[0m\n\u001b[1;32m    110\u001b[0m         \u001b[0;32mwith\u001b[0m \u001b[0mio\u001b[0m\u001b[0;34m.\u001b[0m\u001b[0mopen\u001b[0m\u001b[0;34m(\u001b[0m\u001b[0mfilename\u001b[0m\u001b[0;34m,\u001b[0m \u001b[0;34m'w'\u001b[0m\u001b[0;34m,\u001b[0m \u001b[0mencoding\u001b[0m\u001b[0;34m=\u001b[0m\u001b[0;34m'utf-8'\u001b[0m\u001b[0;34m)\u001b[0m \u001b[0;32mas\u001b[0m \u001b[0mf\u001b[0m\u001b[0;34m:\u001b[0m\u001b[0;34m\u001b[0m\u001b[0m\n\u001b[0;32m--> 111\u001b[0;31m             \u001b[0mf\u001b[0m\u001b[0;34m.\u001b[0m\u001b[0mwrite\u001b[0m\u001b[0;34m(\u001b[0m\u001b[0mself\u001b[0m\u001b[0;34m.\u001b[0m\u001b[0mrender\u001b[0m\u001b[0;34m(\u001b[0m\u001b[0mis_unicode\u001b[0m\u001b[0;34m=\u001b[0m\u001b[0mTrue\u001b[0m\u001b[0;34m,\u001b[0m \u001b[0;34m**\u001b[0m\u001b[0mkwargs\u001b[0m\u001b[0;34m)\u001b[0m\u001b[0;34m)\u001b[0m\u001b[0;34m\u001b[0m\u001b[0m\n\u001b[0m\u001b[1;32m    112\u001b[0m \u001b[0;34m\u001b[0m\u001b[0m\n\u001b[1;32m    113\u001b[0m     \u001b[0;32mdef\u001b[0m \u001b[0mrender_to_png\u001b[0m\u001b[0;34m(\u001b[0m\u001b[0mself\u001b[0m\u001b[0;34m,\u001b[0m \u001b[0mfilename\u001b[0m\u001b[0;34m=\u001b[0m\u001b[0mNone\u001b[0m\u001b[0;34m,\u001b[0m \u001b[0mdpi\u001b[0m\u001b[0;34m=\u001b[0m\u001b[0;36m72\u001b[0m\u001b[0;34m,\u001b[0m \u001b[0;34m**\u001b[0m\u001b[0mkwargs\u001b[0m\u001b[0;34m)\u001b[0m\u001b[0;34m:\u001b[0m\u001b[0;34m\u001b[0m\u001b[0m\n",
      "\u001b[0;32m//anaconda/lib/python2.7/site-packages/pygal/graph/public.pyc\u001b[0m in \u001b[0;36mrender\u001b[0;34m(self, is_unicode, **kwargs)\u001b[0m\n\u001b[1;32m     47\u001b[0m     \u001b[0;32mdef\u001b[0m \u001b[0mrender\u001b[0m\u001b[0;34m(\u001b[0m\u001b[0mself\u001b[0m\u001b[0;34m,\u001b[0m \u001b[0mis_unicode\u001b[0m\u001b[0;34m=\u001b[0m\u001b[0mFalse\u001b[0m\u001b[0;34m,\u001b[0m \u001b[0;34m**\u001b[0m\u001b[0mkwargs\u001b[0m\u001b[0;34m)\u001b[0m\u001b[0;34m:\u001b[0m\u001b[0;34m\u001b[0m\u001b[0m\n\u001b[1;32m     48\u001b[0m         \u001b[0;34m\"\"\"Render the graph, and return the svg string\"\"\"\u001b[0m\u001b[0;34m\u001b[0m\u001b[0m\n\u001b[0;32m---> 49\u001b[0;31m         \u001b[0mself\u001b[0m\u001b[0;34m.\u001b[0m\u001b[0msetup\u001b[0m\u001b[0;34m(\u001b[0m\u001b[0;34m**\u001b[0m\u001b[0mkwargs\u001b[0m\u001b[0;34m)\u001b[0m\u001b[0;34m\u001b[0m\u001b[0m\n\u001b[0m\u001b[1;32m     50\u001b[0m         svg = self.svg.render(\n\u001b[1;32m     51\u001b[0m             is_unicode=is_unicode, pretty_print=self.pretty_print)\n",
      "\u001b[0;32m//anaconda/lib/python2.7/site-packages/pygal/graph/base.pyc\u001b[0m in \u001b[0;36msetup\u001b[0;34m(self, **kwargs)\u001b[0m\n\u001b[1;32m    217\u001b[0m         \u001b[0;32mif\u001b[0m \u001b[0mself\u001b[0m\u001b[0;34m.\u001b[0m\u001b[0m_len\u001b[0m \u001b[0;34m<\u001b[0m \u001b[0;36m3\u001b[0m\u001b[0;34m:\u001b[0m\u001b[0;34m\u001b[0m\u001b[0m\n\u001b[1;32m    218\u001b[0m             \u001b[0mself\u001b[0m\u001b[0;34m.\u001b[0m\u001b[0minterpolate\u001b[0m \u001b[0;34m=\u001b[0m \u001b[0mNone\u001b[0m\u001b[0;34m\u001b[0m\u001b[0m\n\u001b[0;32m--> 219\u001b[0;31m         \u001b[0mself\u001b[0m\u001b[0;34m.\u001b[0m\u001b[0m_draw\u001b[0m\u001b[0;34m(\u001b[0m\u001b[0;34m)\u001b[0m\u001b[0;34m\u001b[0m\u001b[0m\n\u001b[0m\u001b[1;32m    220\u001b[0m         \u001b[0mself\u001b[0m\u001b[0;34m.\u001b[0m\u001b[0msvg\u001b[0m\u001b[0;34m.\u001b[0m\u001b[0mpre_render\u001b[0m\u001b[0;34m(\u001b[0m\u001b[0;34m)\u001b[0m\u001b[0;34m\u001b[0m\u001b[0m\n\u001b[1;32m    221\u001b[0m \u001b[0;34m\u001b[0m\u001b[0m\n",
      "\u001b[0;32m//anaconda/lib/python2.7/site-packages/pygal/graph/graph.pyc\u001b[0m in \u001b[0;36m_draw\u001b[0;34m(self)\u001b[0m\n\u001b[1;32m    853\u001b[0m     \u001b[0;32mdef\u001b[0m \u001b[0m_draw\u001b[0m\u001b[0;34m(\u001b[0m\u001b[0mself\u001b[0m\u001b[0;34m)\u001b[0m\u001b[0;34m:\u001b[0m\u001b[0;34m\u001b[0m\u001b[0m\n\u001b[1;32m    854\u001b[0m         \u001b[0;34m\"\"\"Draw all the things\"\"\"\u001b[0m\u001b[0;34m\u001b[0m\u001b[0m\n\u001b[0;32m--> 855\u001b[0;31m         \u001b[0mself\u001b[0m\u001b[0;34m.\u001b[0m\u001b[0m_compute\u001b[0m\u001b[0;34m(\u001b[0m\u001b[0;34m)\u001b[0m\u001b[0;34m\u001b[0m\u001b[0m\n\u001b[0m\u001b[1;32m    856\u001b[0m         \u001b[0mself\u001b[0m\u001b[0;34m.\u001b[0m\u001b[0m_compute_x_labels\u001b[0m\u001b[0;34m(\u001b[0m\u001b[0;34m)\u001b[0m\u001b[0;34m\u001b[0m\u001b[0m\n\u001b[1;32m    857\u001b[0m         \u001b[0mself\u001b[0m\u001b[0;34m.\u001b[0m\u001b[0m_compute_x_labels_major\u001b[0m\u001b[0;34m(\u001b[0m\u001b[0;34m)\u001b[0m\u001b[0;34m\u001b[0m\u001b[0m\n",
      "\u001b[0;32m//anaconda/lib/python2.7/site-packages/pygal/graph/radar.pyc\u001b[0m in \u001b[0;36m_compute\u001b[0;34m(self)\u001b[0m\n\u001b[1;32m    186\u001b[0m         \u001b[0mself\u001b[0m\u001b[0;34m.\u001b[0m\u001b[0m_rmin\u001b[0m \u001b[0;34m=\u001b[0m \u001b[0mself\u001b[0m\u001b[0;34m.\u001b[0m\u001b[0mzero\u001b[0m\u001b[0;34m\u001b[0m\u001b[0m\n\u001b[1;32m    187\u001b[0m         \u001b[0mself\u001b[0m\u001b[0;34m.\u001b[0m\u001b[0m_rmax\u001b[0m \u001b[0;34m=\u001b[0m \u001b[0mself\u001b[0m\u001b[0;34m.\u001b[0m\u001b[0m_max\u001b[0m \u001b[0;32mor\u001b[0m \u001b[0;36m1\u001b[0m\u001b[0;34m\u001b[0m\u001b[0m\n\u001b[0;32m--> 188\u001b[0;31m         \u001b[0mself\u001b[0m\u001b[0;34m.\u001b[0m\u001b[0m_box\u001b[0m\u001b[0;34m.\u001b[0m\u001b[0mset_polar_box\u001b[0m\u001b[0;34m(\u001b[0m\u001b[0mself\u001b[0m\u001b[0;34m.\u001b[0m\u001b[0m_rmin\u001b[0m\u001b[0;34m,\u001b[0m \u001b[0mself\u001b[0m\u001b[0;34m.\u001b[0m\u001b[0m_rmax\u001b[0m\u001b[0;34m)\u001b[0m\u001b[0;34m\u001b[0m\u001b[0m\n\u001b[0m\u001b[1;32m    189\u001b[0m         \u001b[0mself\u001b[0m\u001b[0;34m.\u001b[0m\u001b[0m_self_close\u001b[0m \u001b[0;34m=\u001b[0m \u001b[0mTrue\u001b[0m\u001b[0;34m\u001b[0m\u001b[0m\n\u001b[1;32m    190\u001b[0m \u001b[0;34m\u001b[0m\u001b[0m\n",
      "\u001b[0;32m//anaconda/lib/python2.7/site-packages/pygal/view.pyc\u001b[0m in \u001b[0;36mset_polar_box\u001b[0;34m(self, rmin, rmax, tmin, tmax)\u001b[0m\n\u001b[1;32m     69\u001b[0m         \u001b[0mself\u001b[0m\u001b[0;34m.\u001b[0m\u001b[0m_tmin\u001b[0m \u001b[0;34m=\u001b[0m \u001b[0mtmin\u001b[0m\u001b[0;34m\u001b[0m\u001b[0m\n\u001b[1;32m     70\u001b[0m         \u001b[0mself\u001b[0m\u001b[0;34m.\u001b[0m\u001b[0m_tmax\u001b[0m \u001b[0;34m=\u001b[0m \u001b[0mtmax\u001b[0m\u001b[0;34m\u001b[0m\u001b[0m\n\u001b[0;32m---> 71\u001b[0;31m         \u001b[0mself\u001b[0m\u001b[0;34m.\u001b[0m\u001b[0mxmin\u001b[0m \u001b[0;34m=\u001b[0m \u001b[0mself\u001b[0m\u001b[0;34m.\u001b[0m\u001b[0mymin\u001b[0m \u001b[0;34m=\u001b[0m \u001b[0mrmin\u001b[0m \u001b[0;34m-\u001b[0m \u001b[0mrmax\u001b[0m\u001b[0;34m\u001b[0m\u001b[0m\n\u001b[0m\u001b[1;32m     72\u001b[0m         \u001b[0mself\u001b[0m\u001b[0;34m.\u001b[0m\u001b[0mxmax\u001b[0m \u001b[0;34m=\u001b[0m \u001b[0mself\u001b[0m\u001b[0;34m.\u001b[0m\u001b[0mymax\u001b[0m \u001b[0;34m=\u001b[0m \u001b[0mrmax\u001b[0m \u001b[0;34m-\u001b[0m \u001b[0mrmin\u001b[0m\u001b[0;34m\u001b[0m\u001b[0m\n\u001b[1;32m     73\u001b[0m \u001b[0;34m\u001b[0m\u001b[0m\n",
      "\u001b[0;31mTypeError\u001b[0m: unsupported operand type(s) for -: 'int' and 'tuple'"
     ]
    }
   ],
   "source": [
    "## generate chart\n",
    "custom_style = Style(\n",
    "background='transparent',\n",
    "plot_background='transparent',\n",
    "foreground='#000000',\n",
    "foreground_strong='#FF9900',\n",
    "foreground_subtle='#630C0D',\n",
    "opacity='.6',\n",
    "opacity_hover='.9',\n",
    "transition='400ms ease-in',\n",
    "legend_font_size = 18,\n",
    "label_font_size = 18,\n",
    "      \n",
    "stroke_width = 10,\n",
    "font_family = \"monospace\",\n",
    "guide_stroke_width = 6,\n",
    "      \n",
    "      )\n",
    "  \n",
    "chart = pygal.Radar(dynamic_print_values=True, style=custom_style, width = 600, height = 600, stroke_style={'width': 4},dots_size = 4, legend_at_bottom = True, legend_at_bottom_columns = 1)\n",
    "  \n",
    "chart.x_labels = ['Communication', 'Transportation', 'Area:Convenience', 'Experience', 'Arrival', 'Area:Fun', 'Food', 'Amenity']\n",
    "chart.add('Your Listing', user_prob, fill = True)\n",
    "  \n",
    "chart.render_to_file('sample.svg')"
   ]
  },
  {
   "cell_type": "code",
   "execution_count": null,
   "metadata": {
    "collapsed": true
   },
   "outputs": [],
   "source": []
  }
 ],
 "metadata": {
  "kernelspec": {
   "display_name": "Python 2",
   "language": "python",
   "name": "python2"
  },
  "language_info": {
   "codemirror_mode": {
    "name": "ipython",
    "version": 2
   },
   "file_extension": ".py",
   "mimetype": "text/x-python",
   "name": "python",
   "nbconvert_exporter": "python",
   "pygments_lexer": "ipython2",
   "version": "2.7.11"
  }
 },
 "nbformat": 4,
 "nbformat_minor": 0
}
